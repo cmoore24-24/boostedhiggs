{
 "cells": [
  {
   "cell_type": "code",
   "execution_count": null,
   "id": "02b1dc74-cb87-4042-97d1-939ad807870b",
   "metadata": {},
   "outputs": [],
   "source": [
    "import warnings\n",
    "warnings.filterwarnings('ignore', 'binning')\n",
    "warnings.filterwarnings('ignore', 'JERSF')\n",
    "warnings.filterwarnings('ignore','Port')\n",
    "warnings.filterwarnings('ignore', \"The 'nopython'\")\n",
    "warnings.filterwarnings('ignore', \"Pandas\")\n",
    "warnings.filterwarnings('ignore', \"Schedd\")\n",
    "warnings.filterwarnings('ignore')"
   ]
  },
  {
   "cell_type": "code",
   "execution_count": null,
   "id": "8ef3824b",
   "metadata": {},
   "outputs": [],
   "source": [
    "from boostedhiggs.hbbprocessor import HbbProcessor\n",
    "from boostedhiggs import corrections\n",
    "from coffea.nanoevents import NanoEventsFactory, BaseSchema, PFNanoAODSchema\n",
    "import json\n",
    "import distributed\n",
    "import dask"
   ]
  },
  {
   "cell_type": "code",
   "execution_count": null,
   "id": "a569db9e",
   "metadata": {},
   "outputs": [],
   "source": [
    "#Only uncomment this block if running on lpcjobqueue\n",
    "# from distributed import Client\n",
    "# from lpcjobqueue import LPCCondorCluster\n",
    "# cluster = LPCCondorCluster(\n",
    "#    #ship_env=True,\n",
    "#    log_directory='/uscmst1b_scratch/lpc1/3DayLifetime/cjmoore/mylog',\n",
    "#    #memory='4718592000'\n",
    "# )\n",
    "# cluster.adapt(minimum=5, maximum=10)\n",
    "# client = Client(cluster)"
   ]
  },
  {
   "cell_type": "code",
   "execution_count": null,
   "id": "49ad98d1",
   "metadata": {},
   "outputs": [],
   "source": [
    "with open(\"jsons/qcd_and_more_hj_files.json\") as fin:\n",
    "    filelist = json.load(fin)"
   ]
  },
  {
   "cell_type": "code",
   "execution_count": null,
   "id": "80447711",
   "metadata": {},
   "outputs": [],
   "source": [
    "events = NanoEventsFactory.from_root(\n",
    "    {filelist['Hbb'][0]:\"Events\"},\n",
    "    permit_dask=True,\n",
    "    metadata={\"dataset\": \"Hbb\"},\n",
    ").events()"
   ]
  },
  {
   "cell_type": "code",
   "execution_count": null,
   "id": "a1b8154c",
   "metadata": {},
   "outputs": [],
   "source": [
    "result = HbbProcessor().process(events)"
   ]
  },
  {
   "cell_type": "code",
   "execution_count": null,
   "id": "a43e54dc",
   "metadata": {},
   "outputs": [],
   "source": [
    "result"
   ]
  },
  {
   "cell_type": "code",
   "execution_count": null,
   "id": "de91667d",
   "metadata": {},
   "outputs": [],
   "source": [
    "#Things I've had to do:\n",
    "    #Add dask.delayed to corrections within new softdrop class __init__\n",
    "    #upgrade scipy and distributed\n",
    "    #move the contents of build_jec to hbbprocessor (temporary)\n",
    "    #add dask_future fix to corrections.py\n",
    "    #needed to comment out missing fields\n",
    "    #replace instances of np.ones and len() with appropriate ak.ones_like() functions\n",
    "    #add dask_compliance function to corrections to make sure lookup objects has the _dask_futures method\n",
    "    #change some weight statistics code in coffea's analysis tools to prevent slowdown (doing ak.sum/min/max instead of current implementation\n",
    "    #Rely on broadcasting instead of explicit array manipulation\n",
    "    #Replace hist histograms with hist.dask histograms\n",
    "\n"
   ]
  }
 ],
 "metadata": {
  "kernelspec": {
   "display_name": "Python 3 (ipykernel)",
   "language": "python",
   "name": "python3"
  },
  "language_info": {
   "codemirror_mode": {
    "name": "ipython",
    "version": 3
   },
   "file_extension": ".py",
   "mimetype": "text/x-python",
   "name": "python",
   "nbconvert_exporter": "python",
   "pygments_lexer": "ipython3",
   "version": "3.9.18"
  }
 },
 "nbformat": 4,
 "nbformat_minor": 5
}
